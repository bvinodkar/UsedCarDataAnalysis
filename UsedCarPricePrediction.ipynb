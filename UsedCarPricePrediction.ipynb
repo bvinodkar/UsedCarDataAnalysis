{
  "cells": [
    {
      "cell_type": "code",
      "execution_count": null,
      "id": "b9dd2f68-0ee1-49fe-b2be-688d036e9e61",
      "metadata": {
        "id": "b9dd2f68-0ee1-49fe-b2be-688d036e9e61"
      },
      "outputs": [],
      "source": [
        "# Importing the libraries\n",
        "import pandas                as pd\n",
        "import numpy                 as np\n",
        "import matplotlib.pyplot     as plt\n",
        "import plotly.graph_objects  as go\n",
        "import plotly.express        as px\n",
        "import matplotlib.ticker     as ticker\n",
        "import scipy.optimize\n",
        "from sklearn.model_selection import train_test_split\n",
        "from sklearn.linear_model    import LinearRegression\n",
        "from sklearn.metrics         import mean_squared_error,r2_score, mean_absolute_error, mean_squared_error\n",
        "from sklearn.impute          import SimpleImputer\n",
        "from sklearn                 import linear_model\n",
        "from sklearn.preprocessing   import StandardScaler\n",
        "from sklearn.ensemble        import RandomForestRegressor\n",
        "!pip install category_encoders\n",
        "import category_encoders as ce\n"
      ]
    },
    {
      "cell_type": "code",
      "execution_count": null,
      "id": "e9596ddf-fef9-4bd6-a376-28ad5963ce93",
      "metadata": {
        "id": "e9596ddf-fef9-4bd6-a376-28ad5963ce93"
      },
      "outputs": [],
      "source": [
        "# Importing the csv file from the local location\n",
        "UsedCarDF = pd.read_csv('/content/sample_data/vehicles.csv')"
      ]
    },
    {
      "cell_type": "code",
      "execution_count": null,
      "id": "39e06b62-1863-467a-a07d-425ccb29d9aa",
      "metadata": {
        "id": "39e06b62-1863-467a-a07d-425ccb29d9aa"
      },
      "outputs": [],
      "source": [
        "UsedCarDF"
      ]
    },
    {
      "cell_type": "code",
      "execution_count": null,
      "id": "3df327c8-814c-46cd-b05f-4f7aff1b081b",
      "metadata": {
        "id": "3df327c8-814c-46cd-b05f-4f7aff1b081b"
      },
      "outputs": [],
      "source": [
        "# Check for rows that have null values in the column year. I don't want to buy a car which does not have a year listed on it\n",
        "UsedCarDF[UsedCarDF['year'].isnull()]"
      ]
    },
    {
      "cell_type": "code",
      "execution_count": null,
      "id": "c1d4da8d-9cc2-4e10-a761-aa0e03f460e5",
      "metadata": {
        "id": "c1d4da8d-9cc2-4e10-a761-aa0e03f460e5"
      },
      "outputs": [],
      "source": [
        "# Delete the records where Year is null\n",
        "UsedCarDF.dropna(subset=['year'], inplace=True)"
      ]
    },
    {
      "cell_type": "code",
      "execution_count": null,
      "id": "4ff3d415-7b9a-48f2-8424-19eaeb2fba44",
      "metadata": {
        "id": "4ff3d415-7b9a-48f2-8424-19eaeb2fba44"
      },
      "outputs": [],
      "source": [
        "# We could see that the null records for year are deleted from the data frame\n",
        "UsedCarDF"
      ]
    },
    {
      "cell_type": "code",
      "execution_count": null,
      "id": "908a5a43-5e0a-425f-9860-f6f20659e42d",
      "metadata": {
        "id": "908a5a43-5e0a-425f-9860-f6f20659e42d"
      },
      "outputs": [],
      "source": [
        "# Check for other important columns where data is null and delete them from the data frame\n",
        "UsedCarDF[UsedCarDF['title_status'].isnull()]"
      ]
    },
    {
      "cell_type": "code",
      "execution_count": null,
      "id": "e3993c4d-b9b5-46e6-93b2-e8f65bbccd68",
      "metadata": {
        "id": "e3993c4d-b9b5-46e6-93b2-e8f65bbccd68"
      },
      "outputs": [],
      "source": [
        "# Delete the records where title_status is null\n",
        "UsedCarDF.dropna(subset=['title_status'], inplace=True)\n"
      ]
    },
    {
      "cell_type": "code",
      "execution_count": null,
      "id": "8a2ae68d-eef0-480f-81cc-bfbaded7258a",
      "metadata": {
        "id": "8a2ae68d-eef0-480f-81cc-bfbaded7258a"
      },
      "outputs": [],
      "source": [
        "UsedCarDF"
      ]
    },
    {
      "cell_type": "code",
      "execution_count": null,
      "id": "5c44b76a-c76c-4f30-bb5e-c7aacea22065",
      "metadata": {
        "id": "5c44b76a-c76c-4f30-bb5e-c7aacea22065"
      },
      "outputs": [],
      "source": [
        "# Delete the records where VIN is null\n",
        "UsedCarDF.dropna(subset=['VIN'], inplace=True)"
      ]
    },
    {
      "cell_type": "code",
      "execution_count": null,
      "id": "0329e82a-3098-4a27-af98-118dbfb32941",
      "metadata": {
        "id": "0329e82a-3098-4a27-af98-118dbfb32941"
      },
      "outputs": [],
      "source": [
        "UsedCarDF"
      ]
    },
    {
      "cell_type": "code",
      "execution_count": null,
      "id": "4742963e-f5ec-4de2-bb09-1ededf903122",
      "metadata": {
        "id": "4742963e-f5ec-4de2-bb09-1ededf903122"
      },
      "outputs": [],
      "source": [
        "# Delete rows where the price of the car more than $1,000,000 and less than $100\n",
        "# Essentially we are removing the outliers\n",
        "\n",
        "def remove_outliers_iqr(df, column):\n",
        "  Q1 = df[column].quantile(0.25)\n",
        "  Q3 = df[column].quantile(0.75)\n",
        "  IQR = Q3 - Q1\n",
        "  lower_bound = Q1 - 1.5 * IQR\n",
        "  upper_bound = Q3 + 1.5 * IQR\n",
        "  df_filtered = df[(df[column] >= lower_bound) & (df[column] <= upper_bound)]\n",
        "  return df_filtered\n",
        "\n",
        "# Apply to your dataframe\n",
        "UsedCarDFFiltered = remove_outliers_iqr(UsedCarDF, 'price')\n",
        "UsedCarDFFiltered\n"
      ]
    },
    {
      "cell_type": "code",
      "execution_count": null,
      "id": "bbc26a79-3073-488b-a7d6-3820933f2eda",
      "metadata": {
        "id": "bbc26a79-3073-488b-a7d6-3820933f2eda"
      },
      "outputs": [],
      "source": [
        "UsedCarDFFiltered.dtypes"
      ]
    },
    {
      "cell_type": "code",
      "execution_count": null,
      "id": "1c5c9b93-c440-483b-a105-0a332e6aeb13",
      "metadata": {
        "id": "1c5c9b93-c440-483b-a105-0a332e6aeb13"
      },
      "outputs": [],
      "source": [
        "# Here we need to convert the string to numerical dtype (Also known as Binary Encoding )\n",
        "#as the models understand only numerical values of the features\n",
        "# create scatter plots to understand the corelation between the condition of the car\n",
        "# and price of the car\n",
        "UsedCarDFFiltered['condition_codes'] = UsedCarDFFiltered['condition'].astype('category').cat.codes\n",
        "plt.scatter(UsedCarDFFiltered['condition_codes'], UsedCarDFFiltered['price'])\n",
        "plt.xlabel('condition (Encoded)')\n",
        "plt.ylabel('Price')\n",
        "plt.xticks(UsedCarDFFiltered['condition_codes'].unique(), UsedCarDFFiltered['condition'].unique())\n",
        "plt.show()"
      ]
    },
    {
      "cell_type": "code",
      "execution_count": null,
      "id": "8b28823d-8e2a-432a-8e83-dee378e2a3e9",
      "metadata": {
        "id": "8b28823d-8e2a-432a-8e83-dee378e2a3e9"
      },
      "outputs": [],
      "source": [
        "\n",
        "# We can understand that people would prefer the condition of the car to be \" excellent \""
      ]
    },
    {
      "cell_type": "code",
      "execution_count": null,
      "id": "861cc072-20f4-40e8-918a-c809f8ad8acb",
      "metadata": {
        "id": "861cc072-20f4-40e8-918a-c809f8ad8acb"
      },
      "outputs": [],
      "source": [
        "UsedCarDFFiltered['title_status_codes'] = UsedCarDFFiltered['title_status'].astype('category').cat.codes\n",
        "plt.scatter(UsedCarDFFiltered['title_status_codes'], UsedCarDFFiltered['price'])\n",
        "plt.xlabel('title_status (Encoded)')\n",
        "plt.ylabel('Price')\n",
        "plt.xticks(UsedCarDFFiltered['title_status_codes'].unique(), UsedCarDFFiltered['title_status'].unique())\n",
        "plt.show()\n"
      ]
    },
    {
      "cell_type": "code",
      "execution_count": null,
      "id": "3bb401af-216a-4cf1-8404-ad60de8d105d",
      "metadata": {
        "id": "3bb401af-216a-4cf1-8404-ad60de8d105d"
      },
      "outputs": [],
      "source": [
        "# We can understand that people would prefer the title_status of the car to be \" clean \""
      ]
    },
    {
      "cell_type": "code",
      "source": [
        "UsedCarDFFiltered['paint_color_codes'] = UsedCarDFFiltered['paint_color'].astype('category').cat.codes\n",
        "plt.scatter(UsedCarDFFiltered['paint_color_codes'], UsedCarDFFiltered['price'])\n",
        "plt.xlabel('paint_color (Encoded)')\n",
        "plt.ylabel('Price')\n",
        "plt.xticks(UsedCarDFFiltered['paint_color_codes'].unique(), UsedCarDFFiltered['paint_color'].unique())\n",
        "plt.xticks(rotation=45)\n",
        "plt.show()"
      ],
      "metadata": {
        "id": "euNuRzmPkWQN"
      },
      "id": "euNuRzmPkWQN",
      "execution_count": null,
      "outputs": []
    },
    {
      "cell_type": "markdown",
      "source": [
        "# we can understand that color of the car does not make much difference in the price . so this attribute does not qualify to be a feature"
      ],
      "metadata": {
        "id": "Jf7AR_PyDimW"
      },
      "id": "Jf7AR_PyDimW"
    },
    {
      "cell_type": "code",
      "source": [
        "plt.figure(figsize=(20, 15))  # Increased figure size\n",
        "plt.scatter(UsedCarDFFiltered['year'], UsedCarDFFiltered['price'])\n",
        "x_values = UsedCarDFFiltered['year'].unique()\n",
        "# Set x-axis locator and formatter\n",
        "ax = plt.gca()\n",
        "ax.xaxis.set_major_locator(ticker.MultipleLocator(base=5))  # Display every 5th year\n",
        "ax.xaxis.set_major_formatter(ticker.FormatStrFormatter('%d'))  # Format as integers\n",
        "\n",
        "# Display every 5th label\n",
        "#n = 3\n",
        "plt.xlabel('year')\n",
        "plt.ylabel('Price')\n",
        "#plt.xticks(UsedCarDFFiltered['year'].unique())\n",
        "#plt.xticks(x_values[::n], x_values[::n], rotation=180, fontsize = 30)  # Reduce the font size\n",
        "plt.xticks(rotation=45, fontsize=30)\n",
        "plt.tight_layout() # Adjusts subplot parameters for a tight layout\n",
        "plt.show()"
      ],
      "metadata": {
        "id": "LiGT6Tz0mws5"
      },
      "id": "LiGT6Tz0mws5",
      "execution_count": null,
      "outputs": []
    },
    {
      "cell_type": "markdown",
      "source": [
        "we can cleary see that latest year cars are preferred"
      ],
      "metadata": {
        "id": "Y15_MvyeH72E"
      },
      "id": "Y15_MvyeH72E"
    },
    {
      "cell_type": "code",
      "source": [
        "plt.figure(figsize=(30, 25))  # Increased figure size\n",
        "UsedCarDFFiltered['manufacturer_codes'] = UsedCarDFFiltered['manufacturer'].astype('category').cat.codes\n",
        "plt.scatter(UsedCarDFFiltered['manufacturer_codes'], UsedCarDFFiltered['price'])\n",
        "plt.xlabel('manufacturer (Encoded)')\n",
        "plt.ylabel('Price')\n",
        "plt.xticks(UsedCarDFFiltered['manufacturer_codes'].unique(), UsedCarDFFiltered['manufacturer'].unique())\n",
        "plt.xticks(rotation=45, fontsize=20)\n",
        "plt.show()"
      ],
      "metadata": {
        "id": "ei3aysrfnxGt"
      },
      "id": "ei3aysrfnxGt",
      "execution_count": null,
      "outputs": []
    },
    {
      "cell_type": "markdown",
      "source": [
        "we can understand that manufacturer also makes a difference to the price of the car"
      ],
      "metadata": {
        "id": "fF2A5rZSJG9h"
      },
      "id": "fF2A5rZSJG9h"
    },
    {
      "cell_type": "code",
      "source": [
        "plt.figure(figsize=(15, 6))  # Increased figure size\n",
        "UsedCarDFFiltered['transmission_codes'] = UsedCarDFFiltered['transmission'].astype('category').cat.codes\n",
        "plt.scatter(UsedCarDFFiltered['transmission_codes'], UsedCarDFFiltered['price'])\n",
        "plt.xlabel('transmission (Encoded)')\n",
        "plt.ylabel('Price')\n",
        "plt.xticks(UsedCarDFFiltered['transmission_codes'].unique(), UsedCarDFFiltered['transmission'].unique())\n",
        "plt.xticks(rotation=45, fontsize=15)\n",
        "plt.show()"
      ],
      "metadata": {
        "id": "ubKfAn5XQWrl"
      },
      "id": "ubKfAn5XQWrl",
      "execution_count": null,
      "outputs": []
    },
    {
      "cell_type": "markdown",
      "source": [
        "no diff in the price with regards to the fuel transmission"
      ],
      "metadata": {
        "id": "ic6tN9yuQ_id"
      },
      "id": "ic6tN9yuQ_id"
    },
    {
      "cell_type": "code",
      "source": [
        "plt.figure(figsize=(15, 6))  # Increased figure size\n",
        "UsedCarDFFiltered['drive_codes'] = UsedCarDFFiltered['drive'].astype('category').cat.codes\n",
        "plt.scatter(UsedCarDFFiltered['drive_codes'], UsedCarDFFiltered['price'])\n",
        "plt.xlabel('drive (Encoded)')\n",
        "plt.ylabel('Price')\n",
        "plt.xticks(UsedCarDFFiltered['drive_codes'].unique(), UsedCarDFFiltered['drive'].unique())\n",
        "plt.xticks(rotation=45, fontsize=15)\n",
        "plt.show()"
      ],
      "metadata": {
        "id": "cz_6OAV1ROos"
      },
      "id": "cz_6OAV1ROos",
      "execution_count": null,
      "outputs": []
    },
    {
      "cell_type": "markdown",
      "source": [
        "no diff in the price with the drive type of the car"
      ],
      "metadata": {
        "id": "Vz01qX_sReS2"
      },
      "id": "Vz01qX_sReS2"
    },
    {
      "cell_type": "code",
      "source": [
        "plt.figure(figsize=(15, 6))  # Increased figure size\n",
        "UsedCarDFFiltered['fuel_codes'] = UsedCarDFFiltered['fuel'].astype('category').cat.codes\n",
        "plt.scatter(UsedCarDFFiltered['fuel_codes'], UsedCarDFFiltered['price'])\n",
        "plt.xlabel('fuel (Encoded)')\n",
        "plt.ylabel('Price')\n",
        "plt.xticks(UsedCarDFFiltered['fuel_codes'].unique(), UsedCarDFFiltered['fuel'].unique())\n",
        "plt.xticks(rotation=45, fontsize=15)\n",
        "plt.show()"
      ],
      "metadata": {
        "id": "aMBlD1scz1kp"
      },
      "id": "aMBlD1scz1kp",
      "execution_count": null,
      "outputs": []
    },
    {
      "cell_type": "code",
      "source": [
        "plt.figure(figsize=(15, 6))  # Increased figure size\n",
        "UsedCarDFFiltered['cylinders_codes'] = UsedCarDFFiltered['cylinders'].astype('category').cat.codes\n",
        "plt.scatter(UsedCarDFFiltered['cylinders_codes'], UsedCarDFFiltered['price'])\n",
        "plt.xlabel('cylinders (Encoded)')\n",
        "plt.ylabel('Price')\n",
        "plt.xticks(UsedCarDFFiltered['cylinders_codes'].unique(), UsedCarDFFiltered['cylinders'].unique())\n",
        "plt.xticks(rotation=45, fontsize=15)\n",
        "plt.show()"
      ],
      "metadata": {
        "id": "BGSPqP6k0KES"
      },
      "id": "BGSPqP6k0KES",
      "execution_count": null,
      "outputs": []
    },
    {
      "cell_type": "code",
      "source": [
        "plt.figure(figsize=(15, 6))  # Increased figure size\n",
        "UsedCarDFFiltered['size_codes'] = UsedCarDFFiltered['size'].astype('category').cat.codes\n",
        "plt.scatter(UsedCarDFFiltered['size_codes'], UsedCarDFFiltered['price'])\n",
        "plt.xlabel('size (Encoded)')\n",
        "plt.ylabel('Price')\n",
        "plt.xticks(UsedCarDFFiltered['size_codes'].unique(), UsedCarDFFiltered['size'].unique())\n",
        "plt.xticks(rotation=45, fontsize=15)\n",
        "plt.show()"
      ],
      "metadata": {
        "id": "MQcMUlcg0dC1"
      },
      "id": "MQcMUlcg0dC1",
      "execution_count": null,
      "outputs": []
    },
    {
      "cell_type": "code",
      "source": [
        "UsedCarDFFiltered['model_codes'] = UsedCarDFFiltered['model'].astype('category').cat.codes\n",
        "UsedCarDFFiltered['type_codes'] = UsedCarDFFiltered['type'].astype('category').cat.codes\n"
      ],
      "metadata": {
        "id": "bodFtCaPsM8H"
      },
      "id": "bodFtCaPsM8H",
      "execution_count": null,
      "outputs": []
    },
    {
      "cell_type": "code",
      "source": [
        "#Applying JamesStein Encoder on Region and State as they both have\n",
        "# high cardinality and also have impact on the price of the car\n",
        "encoder = ce.JamesSteinEncoder(cols=['region', 'state'])\n",
        "UsedCarDFFiltered = encoder.fit_transform(UsedCarDFFiltered, UsedCarDFFiltered['price'])\n",
        "UsedCarDFFiltered"
      ],
      "metadata": {
        "id": "U_me6tQBeb-R"
      },
      "id": "U_me6tQBeb-R",
      "execution_count": null,
      "outputs": []
    },
    {
      "cell_type": "code",
      "execution_count": null,
      "id": "727523a4-e4bb-474c-a680-03da04916da4",
      "metadata": {
        "id": "727523a4-e4bb-474c-a680-03da04916da4"
      },
      "outputs": [],
      "source": [
        "# Feature Engineering and Selection\n",
        "\n",
        "# Feature Engineering\n",
        "UsedCarDFFiltered['car_age'] = 2025 - UsedCarDFFiltered['year']  # Create age feature\n",
        "\n",
        "#Feature Selection\n",
        "features = UsedCarDFFiltered[['year', 'condition_codes', 'title_status_codes',\n",
        "                             'odometer', 'manufacturer_codes', 'car_age',\n",
        "                             'fuel_codes', 'cylinders_codes',\n",
        "                              'region', 'model_codes',\n",
        "                              'type_codes', 'state','size_codes', 'paint_color_codes','drive_codes'\n",
        "                             ]]\n",
        "target = UsedCarDFFiltered[['price']]\n",
        "\n",
        "#Data Scaling\n",
        "#By standardizing the data (Feature scaling), you ensure that all features\n",
        "#contribute equally to the model, preventing features with larger ranges\n",
        "#from dominating the learning process.\n",
        "scaler = StandardScaler()\n",
        "features_scaled = scaler.fit_transform(features)\n",
        "\n",
        "#Data Scaling\n",
        "#By standardizing the data (Feature scaling), you ensure that all features\n",
        "#contribute equally to the model, preventing features with larger ranges\n",
        "#from dominating the learning process.\n",
        "scaler = StandardScaler()\n",
        "features_scaled = scaler.fit_transform(features)\n",
        "\n",
        "\n",
        "\n"
      ]
    },
    {
      "cell_type": "code",
      "source": [
        "# Train-Test Split\n",
        "X_train, X_test, y_train, y_test = train_test_split(features_scaled, target, test_size=0.2, random_state=42)\n"
      ],
      "metadata": {
        "id": "CQUJmHaGhstP"
      },
      "id": "CQUJmHaGhstP",
      "execution_count": null,
      "outputs": []
    },
    {
      "cell_type": "code",
      "source": [
        "# Train the model\n",
        "# Impute NaN values with the mean of each column\n",
        "#\n",
        "\n",
        "imputer = SimpleImputer(strategy='mean') # Create an imputer object\n",
        "X_train = imputer.fit_transform(X_train)  # Fit and transform X_train\n",
        "X_test = imputer.transform(X_test)\n",
        "\n",
        "\n",
        "# Model Selection\n",
        "model = RandomForestRegressor(random_state=42)\n",
        "#model = LinearRegression()\n",
        "# Imp note: I tried both Linear Regression and RandomForest and\n",
        "#RandomForest gives the better results compared to LinearRegression\n",
        "model.fit(X_train, y_train)"
      ],
      "metadata": {
        "id": "XFP_uwKcjW2M"
      },
      "id": "XFP_uwKcjW2M",
      "execution_count": null,
      "outputs": []
    },
    {
      "cell_type": "code",
      "source": [
        "# Make predictions\n",
        "y_pred = model.predict(X_test)"
      ],
      "metadata": {
        "id": "0OUGMhZRjv4o"
      },
      "id": "0OUGMhZRjv4o",
      "execution_count": null,
      "outputs": []
    },
    {
      "cell_type": "code",
      "source": [
        "# Evaluate the model\n",
        "r2 = r2_score(y_test, y_pred)\n",
        "mae = mean_absolute_error(y_test, y_pred)\n",
        "mse = mean_squared_error(y_test, y_pred)\n",
        "rmse = np.sqrt(mse)\n",
        "\n",
        "print(f\"R-squared: {r2}\")\n",
        "print(f\"Mean Absolute Error: {mae}\")\n",
        "print(f\"Mean Squared Error: {mse}\")\n",
        "print(f\"Root Mean Squared Error: {rmse}\")"
      ],
      "metadata": {
        "id": "LOWwBv5Wj3fW"
      },
      "id": "LOWwBv5Wj3fW",
      "execution_count": null,
      "outputs": []
    },
    {
      "cell_type": "code",
      "source": [
        "# Calculate mean/median price\n",
        "mean_price = UsedCarDFFiltered['price'].mean()\n",
        "median_price = UsedCarDFFiltered['price'].median()\n",
        "\n",
        "# Create baseline prediction column\n",
        "UsedCarDFFiltered['baseline_mean'] = mean_price\n",
        "UsedCarDFFiltered['baseline_median'] = median_price\n",
        "\n",
        "# Calculate MSE for baseline predictions\n",
        "mse_mean = mean_squared_error(UsedCarDFFiltered['price'], UsedCarDFFiltered['baseline_mean'])\n",
        "mse_median = mean_squared_error(UsedCarDFFiltered['price'], UsedCarDFFiltered['baseline_median'])\n",
        "\n",
        "print(f\"Baseline MSE (Mean): {mse_mean}\")\n",
        "print(f\"Baseline MSE (Median): {mse_median}\")"
      ],
      "metadata": {
        "id": "SX7PCMSQvLKY"
      },
      "id": "SX7PCMSQvLKY",
      "execution_count": null,
      "outputs": []
    },
    {
      "cell_type": "code",
      "source": [
        "percentage_error = (rmse / UsedCarDFFiltered['price'].mean()) * 100\n",
        "print(f\"Percentage Error: {percentage_error:.2f}%\")"
      ],
      "metadata": {
        "id": "-z_AAtCEia2T"
      },
      "id": "-z_AAtCEia2T",
      "execution_count": null,
      "outputs": []
    },
    {
      "cell_type": "code",
      "source": [
        "\n",
        "# 6. Predict price for a new car with given features\n",
        "#new_car_features = [[2015, 3, 0, 50000, 100]]  # Example features for a new car\n",
        "#target = UsedCarDFFiltered['price']\n",
        "#predicted_price = model.predict(new_car_features)\n",
        "#print(f\"Predicted Price: {predicted_price[0]}\")"
      ],
      "metadata": {
        "id": "IbtRMKoIj7g7"
      },
      "id": "IbtRMKoIj7g7",
      "execution_count": null,
      "outputs": []
    },
    {
      "cell_type": "code",
      "source": [
        "# Add prediction column to dataframe\n",
        "# Impute NaN values with the mean of each column before prediction\n",
        "\n",
        "imputer = SimpleImputer(strategy='mean') # Create an imputer object\n",
        "\n",
        "# Fit and transform the features used for prediction\n",
        "# Add prediction column to dataframe\n",
        "# Impute NaN values with the mean of each column before prediction\n",
        "\n",
        "imputer = SimpleImputer(strategy='mean') # Create an imputer object\n",
        "\n",
        "# Fit and transform the features used for prediction\n",
        "features_for_prediction = UsedCarDFFiltered[['year', 'condition_codes', 'title_status_codes', 'odometer','manufacturer_codes','car_age',\n",
        "                             'fuel_codes', 'cylinders_codes','region', 'model_codes', 'drive_codes',\n",
        "                               'state','size_codes', 'paint_color_codes','drive_codes']]\n",
        "imputed_features = imputer.fit_transform(features_for_prediction)\n",
        "\n",
        "# Predict using the imputed features\n",
        "UsedCarDFFiltered[\"predicted_price\"] = model.predict(imputed_features)\n",
        "UsedCarDFFiltered[['year','condition','condition_codes','title_status_codes','title_status','odometer','manufacturer_codes','car_age',\n",
        "                             'fuel_codes', 'cylinders_codes','region', 'model_codes',\n",
        "                              'type_codes', 'state','size_codes', 'paint_color_codes','drive_codes','price','predicted_price']]\n",
        "# Predict using the imputed features\n",
        "UsedCarDFFiltered[\"predicted_price\"] = model.predict(imputed_features)\n",
        "# Add prediction column to dataframe\n",
        "# Impute NaN values with the mean of each column before prediction\n",
        "\n",
        "imputer = SimpleImputer(strategy='mean') # Create an imputer object\n",
        "\n",
        "# Fit and transform the features used for prediction\n",
        "# Add prediction column to dataframe\n",
        "# Impute NaN values with the mean of each column before prediction\n",
        "\n",
        "imputer = SimpleImputer(strategy='mean') # Create an imputer object\n",
        "\n",
        "# Fit and transform the features used for prediction\n",
        "features_for_prediction = UsedCarDFFiltered[['year', 'condition_codes', 'title_status_codes', 'odometer','manufacturer_codes','car_age',\n",
        "                             'fuel_codes', 'cylinders_codes','region', 'model_codes', 'drive_codes',\n",
        "                               'state','size_codes', 'paint_color_codes','drive_codes']]\n",
        "imputed_features = imputer.fit_transform(features_for_prediction)\n",
        "\n",
        "# Predict using the imputed features\n",
        "UsedCarDFFiltered[\"predicted_price\"] = model.predict(imputed_features)\n",
        "UsedCarDFFiltered[['year','condition','condition_codes','title_status_codes','title_status','odometer','manufacturer_codes','car_age',\n",
        "                             'fuel_codes', 'cylinders_codes','region', 'model_codes',\n",
        "                              'type_codes', 'state','size_codes', 'paint_color_codes','drive_codes','price','predicted_price']]\n",
        "# Predict using the imputed features\n",
        "UsedCarDFFiltered[\"predicted_price\"] = model.predict(imputed_features)\n",
        "UsedCarDFFiltered[['year','condition','condition_codes','title_status_codes','title_status','odometer','manufacturer_codes','car_age',\n",
        "                             'fuel_codes', 'cylinders_codes','region', 'model_codes',\n",
        "                              'type_codes', 'state','size_codes', 'paint_color_codes','drive_codes','price','predicted_price']]"
      ],
      "metadata": {
        "id": "HwY-A4jJrNdk"
      },
      "id": "HwY-A4jJrNdk",
      "execution_count": null,
      "outputs": []
    },
    {
      "cell_type": "code",
      "source": [
        "actual_price = UsedCarDFFiltered['price']\n",
        "predicted_price = UsedCarDFFiltered['predicted_price']\n",
        "\n",
        "r2 = r2_score(actual_price, predicted_price)\n",
        "mae = mean_absolute_error(actual_price, predicted_price)\n",
        "mse = mean_squared_error(actual_price, predicted_price)\n",
        "rmse = np.sqrt(mse)\n",
        "\n",
        "print(f\"R-squared: {r2}\")\n",
        "print(f\"Mean Absolute Error: {mae}\")\n",
        "print(f\"Root Mean Squared Error: {rmse}\")\n",
        "\n",
        "# Create scatter plot\n",
        "import matplotlib.pyplot as plt\n",
        "plt.scatter(actual_price, predicted_price)\n",
        "plt.xlabel(\"Actual Price\")\n",
        "plt.ylabel(\"Predicted Price\")\n",
        "plt.title(\"Actual vs. Predicted Price\")\n",
        "plt.show()"
      ],
      "metadata": {
        "id": "0YfF2D29p6n1"
      },
      "id": "0YfF2D29p6n1",
      "execution_count": null,
      "outputs": []
    },
    {
      "cell_type": "code",
      "source": [
        "# note : overlaying two plots on one pair of axes requires us to use this sort of code\n",
        "\n",
        "fig = go.Figure()\n",
        "fig.add_trace(go.Scatter(x = UsedCarDFFiltered[['year', 'condition_codes', 'title_status_codes', 'odometer','manufacturer_codes','car_age',\n",
        "                             'fuel_codes', 'cylinders_codes', 'size_codes','region', 'model_codes', 'drive_codes',\n",
        "                              'type_codes', 'paint_color_codes', 'state']], y = UsedCarDFFiltered['price'],\n",
        "                          mode  = \"markers\" , name  = \"actual\"))\n",
        "\n",
        "fig.add_trace(go.Scatter(x = UsedCarDFFiltered[['year', 'condition_codes', 'title_status_codes', 'odometer','manufacturer_codes','car_age',\n",
        "                             'fuel_codes', 'cylinders_codes', 'size_codes','region', 'model_codes', 'drive_codes',\n",
        "                              'type_codes', 'paint_color_codes', 'state']], y = UsedCarDFFiltered['predicted_price'],\n",
        "                          mode  = \"lines\" , name  = \"Predicted\"))\n",
        "fig.update_layout(font_size = 20)"
      ],
      "metadata": {
        "id": "gyzLUNmdqCQw"
      },
      "id": "gyzLUNmdqCQw",
      "execution_count": null,
      "outputs": []
    },
    {
      "cell_type": "code",
      "source": [],
      "metadata": {
        "id": "AFb5rM250MNX"
      },
      "id": "AFb5rM250MNX",
      "execution_count": null,
      "outputs": []
    }
  ],
  "metadata": {
    "kernelspec": {
      "display_name": "Python 3 (ipykernel)",
      "language": "python",
      "name": "python3"
    },
    "language_info": {
      "codemirror_mode": {
        "name": "ipython",
        "version": 3
      },
      "file_extension": ".py",
      "mimetype": "text/x-python",
      "name": "python",
      "nbconvert_exporter": "python",
      "pygments_lexer": "ipython3",
      "version": "3.11.7"
    },
    "colab": {
      "provenance": []
    }
  },
  "nbformat": 4,
  "nbformat_minor": 5
}